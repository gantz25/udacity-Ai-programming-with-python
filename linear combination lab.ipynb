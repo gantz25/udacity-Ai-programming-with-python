{
 "cells": [
  {
   "cell_type": "markdown",
   "id": "079c1476",
   "metadata": {},
   "source": [
    "# Linear Combination \n",
    "\n",
    "In this notebook you will learn how to solve linear combination problems using the python package [NumPy](http://www.numpy.org/) and its linear algebra subpackage [linalg](https://docs.scipy.org/doc/numpy-1.13.0/reference/routines.linalg.html). This lab is provided to prepare you for the linear algebra you will be using in Neural Networks. \n",
    "\n",
    "## Determining a Vector's span\n",
    "\n",
    "From the lesson on linear combination, recall that the set of all possible vectors that you can reach with a linear combination of a given pair of vectors is called the span of those two vectors. Let's say we are given the pair of vectors $\\vec{v}$ and $\\vec{w}$, and we want to determine if a third vector $\\vec{t}$ is within their span. If vector $\\vec{t}$ is determined to be within their span, this means that $\\vec{t}$ can be written as a linear combination of the pair of vectors $\\vec{v}$ and $\\vec{w}$. \n",
    "\n",
    "This could be written as:\n",
    "\n",
    "$\\hspace{1cm}a\\vec{v} + b\\vec{w} = \\vec{t}$,$\\hspace{0.3cm}$where $\\vec{v}$ and $\\vec{w}$ are multiplied by scalars $a$ and $b$ and then added together to produce vector $\\vec{t}$. \n",
    "\n",
    "$\\hspace{1.2cm}$*Equation 1*\n",
    "\n",
    "This means if we can find a set of values for the scalars $a$ and $b$ that make *equation 1* true, then $\\vec{t}$ is within the span of $\\vec{v}$ and $\\vec{w}$. Otherwise, if there is **no** set of values of the scalars $a$ and $b$ that make *equation 1* true, then $\\vec{t}$ is **not** within their span. \n",
    "\n"
   ]
  },
  {
   "cell_type": "markdown",
   "id": "27c8d822",
   "metadata": {},
   "source": [
    "\n",
    "We can determine a vector's span computationally using NumPy's linear algebra subpackage [linalg](https://docs.scipy.org/doc/numpy-1.13.0/reference/routines.linalg.html). Below we will go through an example below. \n",
    "\n",
    "If the vectors have the following values:\n",
    "    \n",
    "$\\hspace{1cm}\\vec{v} = \\begin{bmatrix} 1\\\\ 3\\end{bmatrix}$\n",
    "$\\hspace{0.3cm}\\vec{w} = \\begin{bmatrix} 2\\\\ 5\\end{bmatrix}$ \n",
    "$\\hspace{0.3cm}\\vec{t} = \\begin{bmatrix} 4\\\\ 11\\end{bmatrix}$    \n",
    "\n",
    "We can rewrite $a\\vec{v} + b\\vec{w} = \\vec{t}$ as: \n",
    "    \n",
    "$\\hspace{1cm} a \\begin{bmatrix} 1\\\\ 3\\end{bmatrix} + b \\begin{bmatrix} 2\\\\ 5\\end{bmatrix} = \\begin{bmatrix} 4\\\\ 11\\end{bmatrix}$ \n",
    "\n",
    "In a linear algebra class you might have solved this problem by hand, using reduced row echelon form and rewriting *equation 1* as the augmented matrix. We have provided the augmented matrix for *equation 1* below. \n",
    "\n",
    "$\n",
    "\\hspace{1cm}\n",
    "\\left[\n",
    "\\begin{array}{cc|c}\n",
    "1 & 2  & 4 \\\\\n",
    "3 & 5 & 11 \\\\\n",
    "\\end{array}\n",
    "\\right]\n",
    "$\n",
    "\n",
    "Notice that the augmented matrix's right side contains the vector $\\vec{t}$. This is the vector that we are trying to determine if it's contained within the span of the other vectors, $\\vec{v}$ and $\\vec{w}$. Those other vectors whose span we are checking, compose the left side of the augmented matrix."
   ]
  },
  {
   "cell_type": "markdown",
   "id": "26de3390",
   "metadata": {},
   "source": [
    "## Determining Span Computationally\n",
    "Instead of solving the problem by hand, we are going to solve this problem computationally using NumPy's linear algebra subpackage ([linalg](https://docs.scipy.org/doc/numpy-1.13.0/reference/routines.linalg.html)) .\n",
    "\n",
    "**Steps to Determine a Vector's Span Computationally**:\n",
    "\n",
    "1. Make the [NumPy](http://www.numpy.org/) Python package available using the import method   \n",
    "&nbsp;     \n",
    "2. Create right and left sides of the augmented matrix         \n",
    "    1. Create a [NumPy vector](https://docs.scipy.org/doc/numpy-1.13.0/user/basics.creation.html) $\\vec{t}$ to represent the right side of the augmented matrix.    \n",
    "    2. Create a [NumPy matrix](https://docs.scipy.org/doc/numpy-1.13.0/user/basics.creation.html) named $vw$ that represents the left side of the augmented matrix ($\\vec{v}$ and $\\vec{w}$)  \n",
    "    &nbsp;    \n",
    "3. Use NumPy's [**linalg.solve** function](https://docs.scipy.org/doc/numpy-1.13.0/reference/generated/numpy.linalg.solve.html#numpy.linalg.solve) to check a vector's span computationally by solving for the scalars that make the equation true. For this lab you will be using the *__check_vector_span__* function you will defined below. \n",
    "\n",
    "With the Python code below, you will have completed steps **1** and **2** from the list above."
   ]
  },
  {
   "cell_type": "code",
   "execution_count": 2,
   "id": "52a6fe27",
   "metadata": {},
   "outputs": [],
   "source": [
    "import numpy as np\n",
    "import matplotlib.pyplot\n",
    "%matplotlib inline\n"
   ]
  },
  {
   "cell_type": "code",
   "execution_count": 4,
   "id": "a96783e4",
   "metadata": {},
   "outputs": [
    {
     "name": "stdout",
     "output_type": "stream",
     "text": [
      "\n",
      "matirx vw: [[1 2]\n",
      " [3 5]] \n",
      " vector t: [ 4 11]\n"
     ]
    }
   ],
   "source": [
    "#making vector t\n",
    "t=np.array([4,11])\n",
    "vw=np.array([[1,2],[3,5]])\n",
    "# printing both\n",
    "print(\"\\nmatirx vw:\",vw,\"\\n vector t:\",t)"
   ]
  },
  {
   "cell_type": "markdown",
   "id": "277d6e68",
   "metadata": {},
   "source": [
    "### TODO: Check Vector's Span with *__linalg.solve__* function\n",
    "You will be using NumPy's [**linalg.solve** function](https://docs.scipy.org/doc/numpy-1.13.0/reference/generated/numpy.linalg.solve.html#numpy.linalg.solve)\n",
    "to check if vector $\\vec{t}$ is within the span of the other two vectors, $\\vec{v}$ and $\\vec{w}$. To complete this task, you will be inserting your code into the function *__check_vector_span__* that is defined in the coding cell below.\n",
    "\n",
    "**Note the Following**:\n",
    "- Use the [**linalg.solve** function](https://docs.scipy.org/doc/numpy-1.13.0/reference/generated/numpy.linalg.solve.html#numpy.linalg.solve) to solve for the scalars (**vector_of_scalars**) that will make *equation 1* above \n",
    "**true**, *ONLY* when the vector that's being checked (**vector_to_check**) is within the span of the other vectors (**set_of_vectors**).   \n",
    "\n",
    "                                      \n",
    "- *Otherwise*, the vector (**vector_to_check**) is **not** within the span and an empty vector is returned.  \n",
    "                                      \n",
    "                                      \n",
    "                                      \n",
    "Below you will find the definitions of the parameters and returned variable to help you with this task. \n",
    "\n",
    "- **Function Parameters:**\n",
    "    - **set_of_vectors** is the left side of the augmented matrix. This parameter represents the set of vectors (e.g. $\\vec{v}$ and $\\vec{w}$) whose span you are checking.\n",
    "    - **vector_to_check** is the right side of the augmented matrix. This parameter represents the vector (e.g. $\\vec{t}$) that's checked to see if it's within the span of the vectors in **set_of_vectors**.\n",
    "\n",
    "                                      \n",
    "- **Returned variable:** \n",
    "    - **vector_of_scalars** contains the scalars that will solve the equations **\"if\"** the checked vector is within the span of the set of vectors. Otherwise, this will be an empty vector. \n",
    "\n",
    "With the Python code below, you will be completing step **3** of *determine a vector's span computationally*. In the code below (see *__TODO:__*), you will need to replace **None** below with code that uses [**linalg.solve** function](https://docs.scipy.org/doc/numpy-1.13.0/reference/generated/numpy.linalg.solve.html#numpy.linalg.solve) to solve for the scalars (*vector_of_scalars*)."
   ]
  },
  {
   "cell_type": "code",
   "execution_count": 8,
   "id": "76792197",
   "metadata": {},
   "outputs": [],
   "source": [
    "def vector_check_span(setOfvectors,vector2check):\n",
    "# creating empty vector of correct size\n",
    "    vector_of_scalars=np.asarray([None]*setOfvectors.shape[0])\n",
    "    try:\n",
    "        vector_of_scalars=np.linalg.solve(setOfvectors,vector2check)\n",
    "        if not (vector_of_scalars is None):\n",
    "            print('\\n vector withing the span : ',vector_of_scalars)\n",
    "    except Exception as exception_type:\n",
    "           if str(exception_type)=='Singular matrix':\n",
    "                print('\\n no single solution ,it is not within the span')\n",
    "           else:\n",
    "                print(\"\\n unexpected exception error:\",exception_type)\n",
    "    return vector_of_scalars\n",
    "\n",
    "            "
   ]
  },
  {
   "cell_type": "markdown",
   "id": "9863f15b",
   "metadata": {},
   "source": [
    "### Checking *check_vector_span* by Solving for Scalars\n",
    "Let's see if $\\vec{t}$ is within the span of vectors $\\vec{v}$ and $\\vec{w}$ and check the code you added to the *check_vector_span* function above. \n",
    "\n",
    "*Notice that*:\n",
    "\n",
    "- There is code added to check two additional sets of vectors (see the additional vectors below).  \n",
    "\n",
    "\n",
    "- To *run* your code:\n",
    "    - Click on the Save icon (disk icon right under *'File'* in the menu bar above), to save your work.\n",
    "    - Select *'Kernel'* and *'Restart & Run All'*, to run your code.  \n",
    "\n",
    "\n",
    "\n",
    "The second set of vectors have the follwing values and augmented matrix:\n",
    "\n",
    "$\\hspace{1cm}\\vec{v2} = \\begin{bmatrix} 1\\\\ 2\\end{bmatrix}$\n",
    "$\\hspace{0.3cm}\\vec{w2} = \\begin{bmatrix} 2\\\\ 4\\end{bmatrix}$ \n",
    "$\\hspace{0.3cm}\\vec{t2} = \\begin{bmatrix} 6\\\\ 12\\end{bmatrix}$  $\\hspace{0.9cm}\n",
    "\\left[\n",
    "\\begin{array}{cc|c}\n",
    "1 & 2  & 6 \\\\\n",
    "2 & 4 & 12 \\\\\n",
    "\\end{array}\n",
    "\\right]\n",
    "$\n",
    "\n",
    "The third set of vectors have the follwing values and augmented matrix:\n",
    "\n",
    "$\\hspace{1cm}\\vec{v3} = \\begin{bmatrix} 1\\\\ 1\\end{bmatrix}$\n",
    "$\\hspace{0.3cm}\\vec{w3} = \\begin{bmatrix} 2\\\\ 2\\end{bmatrix}$ \n",
    "$\\hspace{0.3cm}\\vec{t3} = \\begin{bmatrix} 6\\\\ 10\\end{bmatrix}$  $\\hspace{0.9cm}\n",
    "\\left[\n",
    "\\begin{array}{cc|c}\n",
    "1 & 2  & 6 \\\\\n",
    "1 & 2 & 10 \\\\\n",
    "\\end{array}\n",
    "\\right]\n",
    "$\n",
    "\n",
    "With the Python code below, you will be checking the function you created with step **3** of *determine a vector's span computationally*. "
   ]
  },
  {
   "cell_type": "code",
   "execution_count": 11,
   "id": "8d07d5a0",
   "metadata": {},
   "outputs": [
    {
     "name": "stdout",
     "output_type": "stream",
     "text": [
      "\n",
      "Equation 1:\n",
      " Matrix vw:\n",
      "[[1 2]\n",
      " [3 5]]\n",
      "\n",
      "Vector t:\n",
      "[ 4 11]\n",
      "\n",
      " vector withing the span :  [2. 1.]\n",
      "\n",
      "New Vectors:\n",
      " Matrix vw2:\n",
      "[[1 2]\n",
      " [2 4]]\n",
      "\n",
      "Vector t2:\n",
      "[ 6 12]\n",
      "\n",
      " no single solution ,it is not within the span\n",
      "\n",
      "New Vectors:\n",
      " Matrix vw3:\n",
      "[[1 2]\n",
      " [1 2]]\n",
      "\n",
      "Vector t3:\n",
      "[ 6 10]\n",
      "\n",
      " no single solution ,it is not within the span\n"
     ]
    }
   ],
   "source": [
    "# Call to check_vector_span to check vectors in Equation 1\n",
    "print(\"\\nEquation 1:\\n Matrix vw:\", vw, \"\\nVector t:\", t, sep=\"\\n\")\n",
    "s = vector_check_span(vw,t)\n",
    "# Call to check a new set of vectors vw2 and t2\n",
    "vw2 = np.array([[1, 2], [2, 4]]) \n",
    "t2 = np.array([6, 12])\n",
    "print(\"\\nNew Vectors:\\n Matrix vw2:\", vw2, \"\\nVector t2:\", t2, sep=\"\\n\")    \n",
    "# Call to check_vector_span\n",
    "s2 = vector_check_span(vw2,t2)\n",
    "\n",
    "# Call to check a new set of vectors vw3 and t3\n",
    "vw3 = np.array([[1, 2], [1, 2]]) \n",
    "t3 = np.array([6, 10])\n",
    "print(\"\\nNew Vectors:\\n Matrix vw3:\", vw3, \"\\nVector t3:\", t3, sep=\"\\n\")    \n",
    "# Call to check_vector_span\n",
    "s3 = vector_check_span(vw3,t3)\n"
   ]
  },
  {
   "cell_type": "code",
   "execution_count": null,
   "id": "fba47afa",
   "metadata": {},
   "outputs": [],
   "source": []
  }
 ],
 "metadata": {
  "kernelspec": {
   "display_name": "Python 3 (ipykernel)",
   "language": "python",
   "name": "python3"
  },
  "language_info": {
   "codemirror_mode": {
    "name": "ipython",
    "version": 3
   },
   "file_extension": ".py",
   "mimetype": "text/x-python",
   "name": "python",
   "nbconvert_exporter": "python",
   "pygments_lexer": "ipython3",
   "version": "3.9.12"
  }
 },
 "nbformat": 4,
 "nbformat_minor": 5
}
